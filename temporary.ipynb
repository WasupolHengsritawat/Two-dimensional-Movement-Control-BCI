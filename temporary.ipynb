{
 "cells": [
  {
   "cell_type": "code",
   "execution_count": 22,
   "metadata": {},
   "outputs": [],
   "source": [
    "from psychopy import visual, core\n",
    "import numpy as np\n",
    "\n",
    "t_cross = 2\n",
    "t_cue = 3\n",
    "t_rest_mean = 2\n",
    "\n",
    "## Hyperparameters --------------------------------------------------------------------------------------------------------\n",
    "# Cue Parameters --------------------------------------------------------------\n",
    "arrow_size = 750             # Arrow Size\n",
    "n_trials  = [15, 15, 15, 0]  # Number of each class (None, Right, Left, Down)\n",
    "trial_length = 3             # Length of arrow display [sec]\n",
    "blink_freq = 0               # Arrow blinking frequency [Hz]\n",
    "\n",
    "# Classification Hyperparameters ----------------------------------------------\n",
    "# -- |Train Data| --\n",
    "participant_id = 0\n",
    "session = 3\n",
    "initial_run = 1\n",
    "n_run = 5\n",
    "\n",
    "# -- |Time Parameters| --\n",
    "# Offline\n",
    "tmin= -0.1\n",
    "tmax= 3\n",
    "t_baseline_offline = 0.1\n",
    "# Online\n",
    "classification_cycle_period = 0.2\n",
    "classification_window_length = 0.5\n",
    "t_baseline_online = 0.1\n",
    "\n",
    "## Cue Preparation --------------------------------------------------------------------------------------------------------\n",
    "# -- |Create random label sequence| --\n",
    "labels = np.zeros(n_trials[0], dtype='int')\n",
    "for i in range(1,len(n_trials)):\n",
    "    labels = np.concatenate((labels,np.full(n_trials[i],i, dtype='int')))\n",
    "np.random.shuffle(labels)\n",
    "\n",
    "# -- |Define Display| --\n",
    "win = visual.Window(color=(-255, -255, -255), fullscr=True, units = 'pix', screen = 1)\n",
    "\n",
    "# -- |Shapes| --\n",
    "def box(pos = (0,0), x = 0, y = 0, color = 'red', size = 1):\n",
    "    x_neg = x if x < 0 else 0\n",
    "    x_pos = x if x > 0 else 0\n",
    "\n",
    "    y_neg = y if y < 0 else 0\n",
    "    y_pos = y if y > 0 else 0\n",
    "\n",
    "    return visual.ShapeStim(win, vertices=[(x_neg, -30 + y_neg),(x_pos, -30 + y_neg),(x_pos, 30 + y_pos),(x_neg, 30 + y_pos)], interpolate=True, fillColor=color, pos=pos, size=size)\n",
    "cross = visual.TextStim(win, text='+', height=50)\n",
    "\n",
    "# Arrow Vertices\n",
    "arrow = [[(0,0)],                                                                   # 0 - None\n",
    "         [(-0.2,0.05),(-0.2,-0.05),(0,-0.05),(0,-0.1),(.2,0),(0,0.1),(0,0.05)],     # 1 - Right\n",
    "         [(.2,0.05),(.2,-0.05),(0,-0.05),(0,-0.1),(-0.2,0),(0,0.1),(0,0.05)],       # 2 - Left\n",
    "         [(0.05,0.2),(-0.05,0.2),(-0.05,0),(-0.1,0),(0,-.2),(0.1,0),(0.05,0)]]      # 3 - Down\n",
    "# Arrow Position\n",
    "arrow_pos = np.array([(0,0),(0.3,0),(-0.3,0),(0,-0.3)]) # [None, Right, Left, Down]\n",
    "\n",
    "# Arrow Shapes\n",
    "arrows = []\n",
    "for i in range(len(arrow)):\n",
    "    arrows.append(visual.ShapeStim(win, vertices=arrow[i], interpolate=True, fillColor='red', pos=(0,0), size=arrow_size))\n",
    "\n",
    "def state(s):\n",
    "    state.value = s\n",
    "def t_sm():\n",
    "    t_sm.counter += classification_cycle_period\n",
    "\n",
    "t_sm.counter = 0    # Initial State Machine Time\n",
    "state(0)            # Initial State\n",
    "cue_update_flag = False\n",
    "\n",
    "def cue_state_machine(trial):\n",
    "    if state.value == 0:\n",
    "        cross.draw()\n",
    "        t_sm()\n",
    "        if t_sm.counter > t_cross:\n",
    "            t_sm.counter = 0\n",
    "            state(1)\n",
    "    elif state.value == 1:\n",
    "        arrows[labels[trial]].draw() \n",
    "        t_sm()\n",
    "        if t_sm.counter > t_cue:\n",
    "            t_sm.counter = 0\n",
    "            state(2)\n",
    "            t_rest = (t_rest_mean - 0.5) + np.random.rand()\n",
    "    elif state.value == 2:\n",
    "        t_sm()\n",
    "        if t_sm.counter > t_rest:\n",
    "            t_sm.counter = 0\n",
    "            cue_update_flag = True\n",
    "            state(0)"
   ]
  },
  {
   "cell_type": "code",
   "execution_count": 25,
   "metadata": {},
   "outputs": [
    {
     "data": {
      "text/plain": [
       "int"
      ]
     },
     "execution_count": 25,
     "metadata": {},
     "output_type": "execute_result"
    }
   ],
   "source": [
    "type(5//3)"
   ]
  },
  {
   "cell_type": "code",
   "execution_count": 30,
   "metadata": {},
   "outputs": [],
   "source": [
    "import numpy as np"
   ]
  },
  {
   "cell_type": "code",
   "execution_count": 39,
   "metadata": {},
   "outputs": [
    {
     "data": {
      "text/plain": [
       "array(['#751818', 'gray'], dtype='<U7')"
      ]
     },
     "execution_count": 39,
     "metadata": {},
     "output_type": "execute_result"
    }
   ],
   "source": [
    "scores = np.array([2,8])\n",
    "k = 3\n",
    "\n",
    "np.where(np.array([k,k]) < scores,'#751818','gray')"
   ]
  }
 ],
 "metadata": {
  "kernelspec": {
   "display_name": "base",
   "language": "python",
   "name": "python3"
  },
  "language_info": {
   "codemirror_mode": {
    "name": "ipython",
    "version": 3
   },
   "file_extension": ".py",
   "mimetype": "text/x-python",
   "name": "python",
   "nbconvert_exporter": "python",
   "pygments_lexer": "ipython3",
   "version": "3.11.5"
  }
 },
 "nbformat": 4,
 "nbformat_minor": 2
}
